{
 "cells": [
  {
   "cell_type": "code",
   "execution_count": 1,
   "metadata": {},
   "outputs": [],
   "source": [
    "#Import different libraries\n",
    "import os\n",
    "import numpy as np\n",
    "import matplotlib.pyplot as plt\n",
    "import tensorflow as tf\n",
    "from tensorflow.keras.preprocessing.image import ImageDataGenerator\n",
    "from tensorflow.keras.models import Sequential\n",
    "from tensorflow.keras.layers import Conv2D, MaxPooling2D, Flatten, Dense, Dropout\n",
    "from tensorflow.keras.callbacks import EarlyStopping, ModelCheckpoint, ReduceLROnPlateau\n",
    "from tensorflow.keras.models import load_model\n",
    "import pickle\n"
   ]
  },
  {
   "cell_type": "code",
   "execution_count": 11,
   "metadata": {},
   "outputs": [
    {
     "name": "stderr",
     "output_type": "stream",
     "text": [
      "WARNING:absl:Compiled the loaded model, but the compiled metrics have yet to be built. `model.compile_metrics` will be empty until you train or evaluate the model.\n"
     ]
    }
   ],
   "source": [
    "#Load the model\n",
    "model = load_model('cnn_model.h5')"
   ]
  },
  {
   "cell_type": "code",
   "execution_count": 3,
   "metadata": {},
   "outputs": [],
   "source": [
    "#Import paths\n",
    "BASE_PATH = \"../\"\n",
    "OLD_DATA = os.path.join(BASE_PATH, \"data\")\n",
    "DATA_TRAIN = os.path.join(OLD_DATA, \"train\")\n",
    "DATA_VALIDATION = os.path.join(OLD_DATA, \"validation\")\n",
    "NEW_DATA = os.path.join(BASE_PATH, \"new_data/train\")"
   ]
  },
  {
   "cell_type": "code",
   "execution_count": 4,
   "metadata": {},
   "outputs": [],
   "source": [
    "#define parameters\n",
    "img_height, img_width = 150, 150\n",
    "batch_size = 32\n",
    "epochs = 30"
   ]
  },
  {
   "cell_type": "code",
   "execution_count": 5,
   "metadata": {},
   "outputs": [],
   "source": [
    "#Split Data for validation\n",
    "train_datagen = ImageDataGenerator(\n",
    "    rescale=1./255,\n",
    "    shear_range=0.2,\n",
    "    zoom_range=0.2,\n",
    "    rotation_range=30,\n",
    "    width_shift_range=0.2,\n",
    "    height_shift_range=0.2,\n",
    "    horizontal_flip=True,\n",
    "    validation_split=0.2\n",
    ")\n"
   ]
  },
  {
   "cell_type": "code",
   "execution_count": 6,
   "metadata": {},
   "outputs": [
    {
     "name": "stdout",
     "output_type": "stream",
     "text": [
      "Found 16933 images belonging to 4 classes.\n",
      "Found 4232 images belonging to 4 classes.\n"
     ]
    }
   ],
   "source": [
    "# Generator for old data\n",
    "old_train_generator = train_datagen.flow_from_directory(\n",
    "    DATA_TRAIN,\n",
    "    target_size=(img_height, img_width),\n",
    "    batch_size=batch_size,\n",
    "    class_mode='categorical',\n",
    "    subset='training'\n",
    ")\n",
    "\n",
    "old_validation_generator = train_datagen.flow_from_directory(\n",
    "    DATA_TRAIN,\n",
    "    target_size=(img_height, img_width),\n",
    "    batch_size=batch_size,\n",
    "    class_mode='categorical',\n",
    "    subset='validation'\n",
    ")"
   ]
  },
  {
   "cell_type": "code",
   "execution_count": 7,
   "metadata": {},
   "outputs": [
    {
     "name": "stdout",
     "output_type": "stream",
     "text": [
      "Found 16 images belonging to 4 classes.\n",
      "Found 0 images belonging to 4 classes.\n"
     ]
    }
   ],
   "source": [
    "# Générateur pour les nouvelles données\n",
    "new_train_generator = train_datagen.flow_from_directory(\n",
    "    NEW_DATA,\n",
    "    target_size=(img_height, img_width),\n",
    "    batch_size=batch_size,\n",
    "    class_mode='categorical',\n",
    "    subset='training'\n",
    ")\n",
    "\n",
    "new_validation_generator = train_datagen.flow_from_directory(\n",
    "    NEW_DATA,\n",
    "    target_size=(img_height, img_width),\n",
    "    batch_size=batch_size,\n",
    "    class_mode='categorical',\n",
    "    subset='validation'\n",
    ")"
   ]
  },
  {
   "cell_type": "code",
   "execution_count": 8,
   "metadata": {},
   "outputs": [],
   "source": [
    "#Combine generators\n",
    "def combine_generators(*generators):\n",
    "    while True:\n",
    "        for generator in generators:\n",
    "            yield next(generator)\n",
    "\n",
    "#Combined gererator for training\n",
    "mixed_train_generator = combine_generators(old_train_generator, new_train_generator)\n",
    "\n",
    "#Combined gererator for validation\n",
    "mixed_validation_generator = combine_generators(old_validation_generator, new_validation_generator)\n",
    "\n",
    "#Adjust steps per epoch and validation steps\n",
    "total_train_samples = old_train_generator.samples + new_train_generator.samples\n",
    "total_val_samples = old_validation_generator.samples + new_validation_generator.samples\n",
    "\n",
    "#Define steps per epoch\n",
    "steps_per_epoch = total_train_samples // batch_size\n",
    "validation_steps = total_val_samples // batch_size\n"
   ]
  },
  {
   "cell_type": "code",
   "execution_count": 21,
   "metadata": {},
   "outputs": [],
   "source": [
    "#Recreate the optimizer\n",
    "optimizer = tf.keras.optimizers.Adam()\n",
    "\n",
    "#Compile the model with the new optimizer\n",
    "model.compile(optimizer=optimizer, loss='categorical_crossentropy', metrics=['accuracy'])"
   ]
  },
  {
   "cell_type": "code",
   "execution_count": 22,
   "metadata": {},
   "outputs": [],
   "source": [
    "#Define callbacks\n",
    "callbacks = [\n",
    "    EarlyStopping(monitor='val_loss', patience=5, restore_best_weights=True),\n",
    "    ModelCheckpoint('best_model_incremental.keras', save_best_only=True),\n",
    "    ReduceLROnPlateau(monitor='val_loss', factor=0.2, patience=5, min_lr=0.001)\n",
    "]"
   ]
  },
  {
   "cell_type": "code",
   "execution_count": 19,
   "metadata": {},
   "outputs": [
    {
     "name": "stdout",
     "output_type": "stream",
     "text": [
      "Epoch 1/30\n",
      "\u001b[1m529/529\u001b[0m \u001b[32m━━━━━━━━━━━━━━━━━━━━\u001b[0m\u001b[37m\u001b[0m \u001b[1m0s\u001b[0m 228ms/step - accuracy: 0.8110 - loss: 0.5108"
     ]
    },
    {
     "ename": "InvalidArgumentError",
     "evalue": "Graph execution error:\n\nDetected at node sequential_5_1/conv2d_16_1/add defined at (most recent call last):\n  File \"c:\\Users\\Raph\\miniconda3\\envs\\pulmoScan4\\lib\\runpy.py\", line 196, in _run_module_as_main\n\n  File \"c:\\Users\\Raph\\miniconda3\\envs\\pulmoScan4\\lib\\runpy.py\", line 86, in _run_code\n\n  File \"c:\\Users\\Raph\\miniconda3\\envs\\pulmoScan4\\lib\\site-packages\\ipykernel_launcher.py\", line 17, in <module>\n\n  File \"c:\\Users\\Raph\\miniconda3\\envs\\pulmoScan4\\lib\\site-packages\\traitlets\\config\\application.py\", line 992, in launch_instance\n\n  File \"c:\\Users\\Raph\\miniconda3\\envs\\pulmoScan4\\lib\\site-packages\\ipykernel\\kernelapp.py\", line 701, in start\n\n  File \"c:\\Users\\Raph\\miniconda3\\envs\\pulmoScan4\\lib\\site-packages\\tornado\\platform\\asyncio.py\", line 195, in start\n\n  File \"c:\\Users\\Raph\\miniconda3\\envs\\pulmoScan4\\lib\\asyncio\\windows_events.py\", line 321, in run_forever\n\n  File \"c:\\Users\\Raph\\miniconda3\\envs\\pulmoScan4\\lib\\asyncio\\base_events.py\", line 603, in run_forever\n\n  File \"c:\\Users\\Raph\\miniconda3\\envs\\pulmoScan4\\lib\\asyncio\\base_events.py\", line 1909, in _run_once\n\n  File \"c:\\Users\\Raph\\miniconda3\\envs\\pulmoScan4\\lib\\asyncio\\events.py\", line 80, in _run\n\n  File \"c:\\Users\\Raph\\miniconda3\\envs\\pulmoScan4\\lib\\site-packages\\ipykernel\\kernelbase.py\", line 534, in dispatch_queue\n\n  File \"c:\\Users\\Raph\\miniconda3\\envs\\pulmoScan4\\lib\\site-packages\\ipykernel\\kernelbase.py\", line 523, in process_one\n\n  File \"c:\\Users\\Raph\\miniconda3\\envs\\pulmoScan4\\lib\\site-packages\\ipykernel\\kernelbase.py\", line 429, in dispatch_shell\n\n  File \"c:\\Users\\Raph\\miniconda3\\envs\\pulmoScan4\\lib\\site-packages\\ipykernel\\kernelbase.py\", line 767, in execute_request\n\n  File \"c:\\Users\\Raph\\miniconda3\\envs\\pulmoScan4\\lib\\site-packages\\ipykernel\\ipkernel.py\", line 429, in do_execute\n\n  File \"c:\\Users\\Raph\\miniconda3\\envs\\pulmoScan4\\lib\\site-packages\\ipykernel\\zmqshell.py\", line 549, in run_cell\n\n  File \"c:\\Users\\Raph\\miniconda3\\envs\\pulmoScan4\\lib\\site-packages\\IPython\\core\\interactiveshell.py\", line 3051, in run_cell\n\n  File \"c:\\Users\\Raph\\miniconda3\\envs\\pulmoScan4\\lib\\site-packages\\IPython\\core\\interactiveshell.py\", line 3106, in _run_cell\n\n  File \"c:\\Users\\Raph\\miniconda3\\envs\\pulmoScan4\\lib\\site-packages\\IPython\\core\\async_helpers.py\", line 129, in _pseudo_sync_runner\n\n  File \"c:\\Users\\Raph\\miniconda3\\envs\\pulmoScan4\\lib\\site-packages\\IPython\\core\\interactiveshell.py\", line 3311, in run_cell_async\n\n  File \"c:\\Users\\Raph\\miniconda3\\envs\\pulmoScan4\\lib\\site-packages\\IPython\\core\\interactiveshell.py\", line 3493, in run_ast_nodes\n\n  File \"c:\\Users\\Raph\\miniconda3\\envs\\pulmoScan4\\lib\\site-packages\\IPython\\core\\interactiveshell.py\", line 3553, in run_code\n\n  File \"C:\\Users\\Raph\\AppData\\Local\\Temp\\ipykernel_25916\\298919178.py\", line 2, in <module>\n\n  File \"c:\\Users\\Raph\\miniconda3\\envs\\pulmoScan4\\lib\\site-packages\\keras\\src\\utils\\traceback_utils.py\", line 117, in error_handler\n\n  File \"c:\\Users\\Raph\\miniconda3\\envs\\pulmoScan4\\lib\\site-packages\\keras\\src\\backend\\tensorflow\\trainer.py\", line 339, in fit\n\n  File \"c:\\Users\\Raph\\miniconda3\\envs\\pulmoScan4\\lib\\site-packages\\keras\\src\\utils\\traceback_utils.py\", line 117, in error_handler\n\n  File \"c:\\Users\\Raph\\miniconda3\\envs\\pulmoScan4\\lib\\site-packages\\keras\\src\\backend\\tensorflow\\trainer.py\", line 425, in evaluate\n\n  File \"c:\\Users\\Raph\\miniconda3\\envs\\pulmoScan4\\lib\\site-packages\\keras\\src\\backend\\tensorflow\\trainer.py\", line 161, in one_step_on_iterator\n\n  File \"c:\\Users\\Raph\\miniconda3\\envs\\pulmoScan4\\lib\\site-packages\\keras\\src\\backend\\tensorflow\\trainer.py\", line 150, in one_step_on_data\n\n  File \"c:\\Users\\Raph\\miniconda3\\envs\\pulmoScan4\\lib\\site-packages\\keras\\src\\backend\\tensorflow\\trainer.py\", line 78, in test_step\n\n  File \"c:\\Users\\Raph\\miniconda3\\envs\\pulmoScan4\\lib\\site-packages\\keras\\src\\utils\\traceback_utils.py\", line 117, in error_handler\n\n  File \"c:\\Users\\Raph\\miniconda3\\envs\\pulmoScan4\\lib\\site-packages\\keras\\src\\layers\\layer.py\", line 846, in __call__\n\n  File \"c:\\Users\\Raph\\miniconda3\\envs\\pulmoScan4\\lib\\site-packages\\keras\\src\\utils\\traceback_utils.py\", line 117, in error_handler\n\n  File \"c:\\Users\\Raph\\miniconda3\\envs\\pulmoScan4\\lib\\site-packages\\keras\\src\\ops\\operation.py\", line 48, in __call__\n\n  File \"c:\\Users\\Raph\\miniconda3\\envs\\pulmoScan4\\lib\\site-packages\\keras\\src\\utils\\traceback_utils.py\", line 156, in error_handler\n\n  File \"c:\\Users\\Raph\\miniconda3\\envs\\pulmoScan4\\lib\\site-packages\\keras\\src\\models\\sequential.py\", line 209, in call\n\n  File \"c:\\Users\\Raph\\miniconda3\\envs\\pulmoScan4\\lib\\site-packages\\keras\\src\\models\\functional.py\", line 202, in call\n\n  File \"c:\\Users\\Raph\\miniconda3\\envs\\pulmoScan4\\lib\\site-packages\\keras\\src\\ops\\function.py\", line 155, in _run_through_graph\n\n  File \"c:\\Users\\Raph\\miniconda3\\envs\\pulmoScan4\\lib\\site-packages\\keras\\src\\models\\functional.py\", line 592, in call\n\n  File \"c:\\Users\\Raph\\miniconda3\\envs\\pulmoScan4\\lib\\site-packages\\keras\\src\\utils\\traceback_utils.py\", line 117, in error_handler\n\n  File \"c:\\Users\\Raph\\miniconda3\\envs\\pulmoScan4\\lib\\site-packages\\keras\\src\\layers\\layer.py\", line 846, in __call__\n\n  File \"c:\\Users\\Raph\\miniconda3\\envs\\pulmoScan4\\lib\\site-packages\\keras\\src\\utils\\traceback_utils.py\", line 117, in error_handler\n\n  File \"c:\\Users\\Raph\\miniconda3\\envs\\pulmoScan4\\lib\\site-packages\\keras\\src\\ops\\operation.py\", line 48, in __call__\n\n  File \"c:\\Users\\Raph\\miniconda3\\envs\\pulmoScan4\\lib\\site-packages\\keras\\src\\utils\\traceback_utils.py\", line 156, in error_handler\n\n  File \"c:\\Users\\Raph\\miniconda3\\envs\\pulmoScan4\\lib\\site-packages\\keras\\src\\layers\\convolutional\\base_conv.py\", line 253, in call\n\ninput depth must be evenly divisible by filter depth: 3 vs 32\n\t [[{{node sequential_5_1/conv2d_16_1/add}}]] [Op:__inference_one_step_on_iterator_24067]",
     "output_type": "error",
     "traceback": [
      "\u001b[1;31m---------------------------------------------------------------------------\u001b[0m",
      "\u001b[1;31mInvalidArgumentError\u001b[0m                      Traceback (most recent call last)",
      "Cell \u001b[1;32mIn[19], line 2\u001b[0m\n\u001b[0;32m      1\u001b[0m \u001b[38;5;66;03m#Continue training\u001b[39;00m\n\u001b[1;32m----> 2\u001b[0m history \u001b[38;5;241m=\u001b[39m \u001b[43mmodel\u001b[49m\u001b[38;5;241;43m.\u001b[39;49m\u001b[43mfit\u001b[49m\u001b[43m(\u001b[49m\n\u001b[0;32m      3\u001b[0m \u001b[43m    \u001b[49m\u001b[43mmixed_train_generator\u001b[49m\u001b[43m,\u001b[49m\n\u001b[0;32m      4\u001b[0m \u001b[43m    \u001b[49m\u001b[43msteps_per_epoch\u001b[49m\u001b[38;5;241;43m=\u001b[39;49m\u001b[43msteps_per_epoch\u001b[49m\u001b[43m,\u001b[49m\n\u001b[0;32m      5\u001b[0m \u001b[43m    \u001b[49m\u001b[43mepochs\u001b[49m\u001b[38;5;241;43m=\u001b[39;49m\u001b[43mepochs\u001b[49m\u001b[43m,\u001b[49m\n\u001b[0;32m      6\u001b[0m \u001b[43m    \u001b[49m\u001b[43mvalidation_data\u001b[49m\u001b[38;5;241;43m=\u001b[39;49m\u001b[43mmixed_validation_generator\u001b[49m\u001b[43m,\u001b[49m\n\u001b[0;32m      7\u001b[0m \u001b[43m    \u001b[49m\u001b[43mvalidation_steps\u001b[49m\u001b[38;5;241;43m=\u001b[39;49m\u001b[43mvalidation_steps\u001b[49m\u001b[43m,\u001b[49m\n\u001b[0;32m      8\u001b[0m \u001b[43m    \u001b[49m\u001b[43mcallbacks\u001b[49m\u001b[38;5;241;43m=\u001b[39;49m\u001b[43mcallbacks\u001b[49m\n\u001b[0;32m      9\u001b[0m \u001b[43m)\u001b[49m\n",
      "File \u001b[1;32mc:\\Users\\Raph\\miniconda3\\envs\\pulmoScan4\\lib\\site-packages\\keras\\src\\utils\\traceback_utils.py:122\u001b[0m, in \u001b[0;36mfilter_traceback.<locals>.error_handler\u001b[1;34m(*args, **kwargs)\u001b[0m\n\u001b[0;32m    119\u001b[0m     filtered_tb \u001b[38;5;241m=\u001b[39m _process_traceback_frames(e\u001b[38;5;241m.\u001b[39m__traceback__)\n\u001b[0;32m    120\u001b[0m     \u001b[38;5;66;03m# To get the full stack trace, call:\u001b[39;00m\n\u001b[0;32m    121\u001b[0m     \u001b[38;5;66;03m# `keras.config.disable_traceback_filtering()`\u001b[39;00m\n\u001b[1;32m--> 122\u001b[0m     \u001b[38;5;28;01mraise\u001b[39;00m e\u001b[38;5;241m.\u001b[39mwith_traceback(filtered_tb) \u001b[38;5;28;01mfrom\u001b[39;00m \u001b[38;5;28;01mNone\u001b[39;00m\n\u001b[0;32m    123\u001b[0m \u001b[38;5;28;01mfinally\u001b[39;00m:\n\u001b[0;32m    124\u001b[0m     \u001b[38;5;28;01mdel\u001b[39;00m filtered_tb\n",
      "File \u001b[1;32mc:\\Users\\Raph\\miniconda3\\envs\\pulmoScan4\\lib\\site-packages\\tensorflow\\python\\eager\\execute.py:53\u001b[0m, in \u001b[0;36mquick_execute\u001b[1;34m(op_name, num_outputs, inputs, attrs, ctx, name)\u001b[0m\n\u001b[0;32m     51\u001b[0m \u001b[38;5;28;01mtry\u001b[39;00m:\n\u001b[0;32m     52\u001b[0m   ctx\u001b[38;5;241m.\u001b[39mensure_initialized()\n\u001b[1;32m---> 53\u001b[0m   tensors \u001b[38;5;241m=\u001b[39m pywrap_tfe\u001b[38;5;241m.\u001b[39mTFE_Py_Execute(ctx\u001b[38;5;241m.\u001b[39m_handle, device_name, op_name,\n\u001b[0;32m     54\u001b[0m                                       inputs, attrs, num_outputs)\n\u001b[0;32m     55\u001b[0m \u001b[38;5;28;01mexcept\u001b[39;00m core\u001b[38;5;241m.\u001b[39m_NotOkStatusException \u001b[38;5;28;01mas\u001b[39;00m e:\n\u001b[0;32m     56\u001b[0m   \u001b[38;5;28;01mif\u001b[39;00m name \u001b[38;5;129;01mis\u001b[39;00m \u001b[38;5;129;01mnot\u001b[39;00m \u001b[38;5;28;01mNone\u001b[39;00m:\n",
      "\u001b[1;31mInvalidArgumentError\u001b[0m: Graph execution error:\n\nDetected at node sequential_5_1/conv2d_16_1/add defined at (most recent call last):\n  File \"c:\\Users\\Raph\\miniconda3\\envs\\pulmoScan4\\lib\\runpy.py\", line 196, in _run_module_as_main\n\n  File \"c:\\Users\\Raph\\miniconda3\\envs\\pulmoScan4\\lib\\runpy.py\", line 86, in _run_code\n\n  File \"c:\\Users\\Raph\\miniconda3\\envs\\pulmoScan4\\lib\\site-packages\\ipykernel_launcher.py\", line 17, in <module>\n\n  File \"c:\\Users\\Raph\\miniconda3\\envs\\pulmoScan4\\lib\\site-packages\\traitlets\\config\\application.py\", line 992, in launch_instance\n\n  File \"c:\\Users\\Raph\\miniconda3\\envs\\pulmoScan4\\lib\\site-packages\\ipykernel\\kernelapp.py\", line 701, in start\n\n  File \"c:\\Users\\Raph\\miniconda3\\envs\\pulmoScan4\\lib\\site-packages\\tornado\\platform\\asyncio.py\", line 195, in start\n\n  File \"c:\\Users\\Raph\\miniconda3\\envs\\pulmoScan4\\lib\\asyncio\\windows_events.py\", line 321, in run_forever\n\n  File \"c:\\Users\\Raph\\miniconda3\\envs\\pulmoScan4\\lib\\asyncio\\base_events.py\", line 603, in run_forever\n\n  File \"c:\\Users\\Raph\\miniconda3\\envs\\pulmoScan4\\lib\\asyncio\\base_events.py\", line 1909, in _run_once\n\n  File \"c:\\Users\\Raph\\miniconda3\\envs\\pulmoScan4\\lib\\asyncio\\events.py\", line 80, in _run\n\n  File \"c:\\Users\\Raph\\miniconda3\\envs\\pulmoScan4\\lib\\site-packages\\ipykernel\\kernelbase.py\", line 534, in dispatch_queue\n\n  File \"c:\\Users\\Raph\\miniconda3\\envs\\pulmoScan4\\lib\\site-packages\\ipykernel\\kernelbase.py\", line 523, in process_one\n\n  File \"c:\\Users\\Raph\\miniconda3\\envs\\pulmoScan4\\lib\\site-packages\\ipykernel\\kernelbase.py\", line 429, in dispatch_shell\n\n  File \"c:\\Users\\Raph\\miniconda3\\envs\\pulmoScan4\\lib\\site-packages\\ipykernel\\kernelbase.py\", line 767, in execute_request\n\n  File \"c:\\Users\\Raph\\miniconda3\\envs\\pulmoScan4\\lib\\site-packages\\ipykernel\\ipkernel.py\", line 429, in do_execute\n\n  File \"c:\\Users\\Raph\\miniconda3\\envs\\pulmoScan4\\lib\\site-packages\\ipykernel\\zmqshell.py\", line 549, in run_cell\n\n  File \"c:\\Users\\Raph\\miniconda3\\envs\\pulmoScan4\\lib\\site-packages\\IPython\\core\\interactiveshell.py\", line 3051, in run_cell\n\n  File \"c:\\Users\\Raph\\miniconda3\\envs\\pulmoScan4\\lib\\site-packages\\IPython\\core\\interactiveshell.py\", line 3106, in _run_cell\n\n  File \"c:\\Users\\Raph\\miniconda3\\envs\\pulmoScan4\\lib\\site-packages\\IPython\\core\\async_helpers.py\", line 129, in _pseudo_sync_runner\n\n  File \"c:\\Users\\Raph\\miniconda3\\envs\\pulmoScan4\\lib\\site-packages\\IPython\\core\\interactiveshell.py\", line 3311, in run_cell_async\n\n  File \"c:\\Users\\Raph\\miniconda3\\envs\\pulmoScan4\\lib\\site-packages\\IPython\\core\\interactiveshell.py\", line 3493, in run_ast_nodes\n\n  File \"c:\\Users\\Raph\\miniconda3\\envs\\pulmoScan4\\lib\\site-packages\\IPython\\core\\interactiveshell.py\", line 3553, in run_code\n\n  File \"C:\\Users\\Raph\\AppData\\Local\\Temp\\ipykernel_25916\\298919178.py\", line 2, in <module>\n\n  File \"c:\\Users\\Raph\\miniconda3\\envs\\pulmoScan4\\lib\\site-packages\\keras\\src\\utils\\traceback_utils.py\", line 117, in error_handler\n\n  File \"c:\\Users\\Raph\\miniconda3\\envs\\pulmoScan4\\lib\\site-packages\\keras\\src\\backend\\tensorflow\\trainer.py\", line 339, in fit\n\n  File \"c:\\Users\\Raph\\miniconda3\\envs\\pulmoScan4\\lib\\site-packages\\keras\\src\\utils\\traceback_utils.py\", line 117, in error_handler\n\n  File \"c:\\Users\\Raph\\miniconda3\\envs\\pulmoScan4\\lib\\site-packages\\keras\\src\\backend\\tensorflow\\trainer.py\", line 425, in evaluate\n\n  File \"c:\\Users\\Raph\\miniconda3\\envs\\pulmoScan4\\lib\\site-packages\\keras\\src\\backend\\tensorflow\\trainer.py\", line 161, in one_step_on_iterator\n\n  File \"c:\\Users\\Raph\\miniconda3\\envs\\pulmoScan4\\lib\\site-packages\\keras\\src\\backend\\tensorflow\\trainer.py\", line 150, in one_step_on_data\n\n  File \"c:\\Users\\Raph\\miniconda3\\envs\\pulmoScan4\\lib\\site-packages\\keras\\src\\backend\\tensorflow\\trainer.py\", line 78, in test_step\n\n  File \"c:\\Users\\Raph\\miniconda3\\envs\\pulmoScan4\\lib\\site-packages\\keras\\src\\utils\\traceback_utils.py\", line 117, in error_handler\n\n  File \"c:\\Users\\Raph\\miniconda3\\envs\\pulmoScan4\\lib\\site-packages\\keras\\src\\layers\\layer.py\", line 846, in __call__\n\n  File \"c:\\Users\\Raph\\miniconda3\\envs\\pulmoScan4\\lib\\site-packages\\keras\\src\\utils\\traceback_utils.py\", line 117, in error_handler\n\n  File \"c:\\Users\\Raph\\miniconda3\\envs\\pulmoScan4\\lib\\site-packages\\keras\\src\\ops\\operation.py\", line 48, in __call__\n\n  File \"c:\\Users\\Raph\\miniconda3\\envs\\pulmoScan4\\lib\\site-packages\\keras\\src\\utils\\traceback_utils.py\", line 156, in error_handler\n\n  File \"c:\\Users\\Raph\\miniconda3\\envs\\pulmoScan4\\lib\\site-packages\\keras\\src\\models\\sequential.py\", line 209, in call\n\n  File \"c:\\Users\\Raph\\miniconda3\\envs\\pulmoScan4\\lib\\site-packages\\keras\\src\\models\\functional.py\", line 202, in call\n\n  File \"c:\\Users\\Raph\\miniconda3\\envs\\pulmoScan4\\lib\\site-packages\\keras\\src\\ops\\function.py\", line 155, in _run_through_graph\n\n  File \"c:\\Users\\Raph\\miniconda3\\envs\\pulmoScan4\\lib\\site-packages\\keras\\src\\models\\functional.py\", line 592, in call\n\n  File \"c:\\Users\\Raph\\miniconda3\\envs\\pulmoScan4\\lib\\site-packages\\keras\\src\\utils\\traceback_utils.py\", line 117, in error_handler\n\n  File \"c:\\Users\\Raph\\miniconda3\\envs\\pulmoScan4\\lib\\site-packages\\keras\\src\\layers\\layer.py\", line 846, in __call__\n\n  File \"c:\\Users\\Raph\\miniconda3\\envs\\pulmoScan4\\lib\\site-packages\\keras\\src\\utils\\traceback_utils.py\", line 117, in error_handler\n\n  File \"c:\\Users\\Raph\\miniconda3\\envs\\pulmoScan4\\lib\\site-packages\\keras\\src\\ops\\operation.py\", line 48, in __call__\n\n  File \"c:\\Users\\Raph\\miniconda3\\envs\\pulmoScan4\\lib\\site-packages\\keras\\src\\utils\\traceback_utils.py\", line 156, in error_handler\n\n  File \"c:\\Users\\Raph\\miniconda3\\envs\\pulmoScan4\\lib\\site-packages\\keras\\src\\layers\\convolutional\\base_conv.py\", line 253, in call\n\ninput depth must be evenly divisible by filter depth: 3 vs 32\n\t [[{{node sequential_5_1/conv2d_16_1/add}}]] [Op:__inference_one_step_on_iterator_24067]"
     ]
    }
   ],
   "source": [
    "#Continue training\n",
    "history = model.fit(\n",
    "    mixed_train_generator,\n",
    "    steps_per_epoch=steps_per_epoch,\n",
    "    epochs=epochs,\n",
    "    validation_data=mixed_validation_generator,\n",
    "    validation_steps=validation_steps,\n",
    "    callbacks=callbacks\n",
    ")"
   ]
  },
  {
   "cell_type": "code",
   "execution_count": null,
   "metadata": {},
   "outputs": [],
   "source": [
    "#Evaluate the model\n",
    "loss, accuracy = model.evaluate(mixed_validation_generator, steps=validation_steps)\n",
    "print(f\"Validation accuracy: {accuracy * 100:.2f}%\")\n",
    "\n",
    "#Save the model\n",
    "model.save('cnn_model_incremental.h5')\n",
    "\n",
    "#Convert model to pickle\n",
    "with open('cnn_model_incremental.pkl', 'wb') as file:\n",
    "    pickle.dump(model, file)"
   ]
  }
 ],
 "metadata": {
  "kernelspec": {
   "display_name": "pulmoScan4",
   "language": "python",
   "name": "python3"
  },
  "language_info": {
   "codemirror_mode": {
    "name": "ipython",
    "version": 3
   },
   "file_extension": ".py",
   "mimetype": "text/x-python",
   "name": "python",
   "nbconvert_exporter": "python",
   "pygments_lexer": "ipython3",
   "version": "3.10.14"
  }
 },
 "nbformat": 4,
 "nbformat_minor": 2
}
