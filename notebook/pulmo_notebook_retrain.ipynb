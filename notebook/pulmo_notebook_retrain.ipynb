{
  "cells": [
    {
      "cell_type": "code",
      "source": [
        "!pip install mysql-connector-python"
      ],
      "metadata": {
        "colab": {
          "base_uri": "https://localhost:8080/"
        },
        "id": "fgX4TX8mrJep",
        "executionInfo": {
          "status": "ok",
          "timestamp": 1720732939598,
          "user_tz": -120,
          "elapsed": 21832,
          "user": {
            "displayName": "",
            "userId": ""
          }
        },
        "outputId": "f3d28f9b-eef1-4860-ba0b-807ca71bcfaf"
      },
      "id": "fgX4TX8mrJep",
      "execution_count": 7,
      "outputs": [
        {
          "output_type": "stream",
          "name": "stdout",
          "text": [
            "Collecting mysql-connector-python\n",
            "  Downloading mysql_connector_python-9.0.0-cp310-cp310-manylinux_2_17_x86_64.whl (19.3 MB)\n",
            "\u001b[2K     \u001b[90m━━━━━━━━━━━━━━━━━━━━━━━━━━━━━━━━━━━━━━━━\u001b[0m \u001b[32m19.3/19.3 MB\u001b[0m \u001b[31m40.2 MB/s\u001b[0m eta \u001b[36m0:00:00\u001b[0m\n",
            "\u001b[?25hInstalling collected packages: mysql-connector-python\n",
            "Successfully installed mysql-connector-python-9.0.0\n"
          ]
        }
      ]
    },
    {
      "cell_type": "code",
      "source": [
        "#Import different libraries\n",
        "#Importations de Bibliothèques Standard\n",
        "import os\n",
        "import base64\n",
        "from io import BytesIO\n",
        "\n",
        "import numpy as np\n",
        "import pandas as pd\n",
        "import matplotlib.pyplot as plt\n",
        "from PIL import Image\n",
        "import mysql.connector\n",
        "from tensorflow.keras.preprocessing.image import array_to_img, img_to_array\n",
        "from tensorflow.keras.utils import to_categorical\n",
        "\n",
        "\n",
        "import tensorflow as tf\n",
        "from tensorflow.keras.preprocessing.image import ImageDataGenerator\n",
        "from tensorflow.keras.callbacks import EarlyStopping, ModelCheckpoint, ReduceLROnPlateau\n",
        "\n",
        "from google.cloud import storage\n"
      ],
      "metadata": {
        "id": "1Whu3t-SjQuU",
        "executionInfo": {
          "status": "ok",
          "timestamp": 1720736649060,
          "user_tz": -120,
          "elapsed": 296,
          "user": {
            "displayName": "",
            "userId": ""
          }
        }
      },
      "id": "1Whu3t-SjQuU",
      "execution_count": 67,
      "outputs": []
    },
    {
      "cell_type": "code",
      "source": [
        "# Load the model from GCP bucket\n",
        "BUCKET_NAME = 'pulmobucket_models'\n",
        "MODEL_PATH = 'GCPmodel.pkl'\n",
        "local_model_path = '/tmp/GCPmodel.pkl'\n",
        "\n",
        "storage_client = storage.Client()\n",
        "bucket = storage_client.bucket(BUCKET_NAME)\n",
        "blob = bucket.blob(MODEL_PATH)\n",
        "blob.download_to_filename(local_model_path)\n",
        "\n",
        "with open(local_model_path, 'rb') as file:\n",
        "    model = pickle.load(file)\n"
      ],
      "metadata": {
        "id": "yClmi2TvjTPq",
        "executionInfo": {
          "status": "ok",
          "timestamp": 1720733179613,
          "user_tz": -120,
          "elapsed": 95424,
          "user": {
            "displayName": "",
            "userId": ""
          }
        }
      },
      "id": "yClmi2TvjTPq",
      "execution_count": 9,
      "outputs": []
    },
    {
      "cell_type": "code",
      "source": [
        "#Define parameters\n",
        "img_height, img_width = 150, 150\n",
        "batch_size = 32\n",
        "epochs = 30"
      ],
      "metadata": {
        "id": "kSysXaeX1FxB",
        "executionInfo": {
          "status": "ok",
          "timestamp": 1720735541996,
          "user_tz": -120,
          "elapsed": 290,
          "user": {
            "displayName": "",
            "userId": ""
          }
        }
      },
      "id": "kSysXaeX1FxB",
      "execution_count": 41,
      "outputs": []
    },
    {
      "cell_type": "code",
      "source": [
        "#Database connection details\n",
        "DB_HOST = '34.155.61.153'\n",
        "DB_PORT = '3306'\n",
        "DB_NAME = 'PulmoScanAI'\n",
        "DB_USER = 'pulmoscanai'\n",
        "DB_PASS = 'pulmo'"
      ],
      "metadata": {
        "id": "2V97rPUsr7Bn",
        "executionInfo": {
          "status": "ok",
          "timestamp": 1720733983695,
          "user_tz": -120,
          "elapsed": 299,
          "user": {
            "displayName": "",
            "userId": ""
          }
        }
      },
      "id": "2V97rPUsr7Bn",
      "execution_count": 15,
      "outputs": []
    },
    {
      "cell_type": "code",
      "source": [
        "#Connect to MySQL database\n",
        "conn = mysql.connector.connect(\n",
        "    host=DB_HOST,\n",
        "    port=DB_PORT,\n",
        "    database=DB_NAME,\n",
        "    user=DB_USER,\n",
        "    password=DB_PASS\n",
        ")\n",
        "\n",
        "#Define the SQL query\n",
        "QUERY = \"\"\"\n",
        "SELECT image_data,\n",
        "CASE\n",
        "  WHEN modified = 1 THEN final_prediction\n",
        "  ELSE original_prediction\n",
        "END AS label\n",
        "FROM user_predictions\n",
        "\"\"\"\n",
        "\n",
        "#Run the query and load data into a DataFrame\n",
        "df = pd.read_sql_query(QUERY, conn)\n",
        "\n",
        "#Close the connection\n",
        "conn.close()"
      ],
      "metadata": {
        "id": "9AO0uMH2jVmk",
        "colab": {
          "base_uri": "https://localhost:8080/"
        },
        "executionInfo": {
          "status": "ok",
          "timestamp": 1720736072651,
          "user_tz": -120,
          "elapsed": 1834,
          "user": {
            "displayName": "",
            "userId": ""
          }
        },
        "outputId": "4278e6e5-31fa-4d68-c809-47a87bcf260a"
      },
      "id": "9AO0uMH2jVmk",
      "execution_count": 53,
      "outputs": [
        {
          "output_type": "stream",
          "name": "stderr",
          "text": [
            "<ipython-input-53-08859a97bf19>:21: UserWarning: pandas only supports SQLAlchemy connectable (engine/connection) or database string URI or sqlite3 DBAPI2 connection. Other DBAPI2 objects are not tested. Please consider using SQLAlchemy.\n",
            "  df = pd.read_sql_query(QUERY, conn)\n"
          ]
        }
      ]
    },
    {
      "cell_type": "code",
      "source": [
        "#Decode images and resize them\n",
        "def decode_and_resize_image(image_data):\n",
        "    try:\n",
        "        if not image_data:\n",
        "            raise ValueError(\"Empty image data\")\n",
        "        image = Image.open(BytesIO(image_data)).convert('RGB')  # Convertir en RGB\n",
        "        image = image.resize((img_width, img_height))  # Redimensionner les images\n",
        "        return image\n",
        "    except Exception as e:\n",
        "        print(f\"Error decoding image: {e}\")\n",
        "        return None\n",
        "\n",
        "df['image'] = df['image_data'].apply(decode_and_resize_image)\n",
        "\n",
        "#Filtrer les lignes avec des images non décodées\n",
        "df = df[df['image'].notnull()]\n",
        "\n",
        "#Convert PIL images to arrays\n",
        "df['image_array'] = df['image'].apply(img_to_array)\n",
        "\n",
        "labels = df['label'].astype('category').cat.codes\n",
        "labels = to_categorical(labels, num_classes=len(df['label'].unique()))\n",
        "\n",
        "images = np.array(df['image_array'].tolist())"
      ],
      "metadata": {
        "id": "qdvEZ8SGe8W6",
        "executionInfo": {
          "status": "ok",
          "timestamp": 1720736326146,
          "user_tz": -120,
          "elapsed": 282,
          "user": {
            "displayName": "",
            "userId": ""
          }
        }
      },
      "id": "qdvEZ8SGe8W6",
      "execution_count": 57,
      "outputs": []
    },
    {
      "cell_type": "code",
      "source": [
        "#Prepare the data generators\n",
        "train_datagen = ImageDataGenerator(\n",
        "    rescale=1./255,\n",
        "    shear_range=0.2,\n",
        "    zoom_range=0.2,\n",
        "    horizontal_flip=True,\n",
        ")\n",
        "\n",
        "train_generator = train_datagen.flow(\n",
        "    images,\n",
        "    labels,\n",
        "    batch_size=batch_size\n",
        ")"
      ],
      "metadata": {
        "id": "O8S4e44vjXEX",
        "executionInfo": {
          "status": "ok",
          "timestamp": 1720736331716,
          "user_tz": -120,
          "elapsed": 282,
          "user": {
            "displayName": "",
            "userId": ""
          }
        }
      },
      "id": "O8S4e44vjXEX",
      "execution_count": 58,
      "outputs": []
    },
    {
      "cell_type": "code",
      "source": [
        "model.compile(optimizer='adam', loss='categorical_crossentropy', metrics=['accuracy'])\n",
        "\n",
        "# Set up callbacks\n",
        "callbacks = [\n",
        "    EarlyStopping(monitor='loss', patience=3, restore_best_weights=True),\n",
        "    ModelCheckpoint(filepath='/tmp/cnn_model.keras')\n",
        "]"
      ],
      "metadata": {
        "id": "CrY2D3A9w26P",
        "executionInfo": {
          "status": "ok",
          "timestamp": 1720736691392,
          "user_tz": -120,
          "elapsed": 270,
          "user": {
            "displayName": "",
            "userId": ""
          }
        }
      },
      "id": "CrY2D3A9w26P",
      "execution_count": 70,
      "outputs": []
    },
    {
      "cell_type": "code",
      "source": [
        "history = model.fit(\n",
        "    train_generator,\n",
        "    steps_per_epoch=max(1, len(df) // batch_size),\n",
        "    epochs=epochs,\n",
        "    callbacks=callbacks\n",
        ")"
      ],
      "metadata": {
        "colab": {
          "base_uri": "https://localhost:8080/"
        },
        "id": "GaJ84zF54SUR",
        "executionInfo": {
          "status": "ok",
          "timestamp": 1720736799285,
          "user_tz": -120,
          "elapsed": 107104,
          "user": {
            "displayName": "",
            "userId": ""
          }
        },
        "outputId": "59eb9156-90af-4a78-8f1a-63a29824ed53"
      },
      "id": "GaJ84zF54SUR",
      "execution_count": 71,
      "outputs": [
        {
          "output_type": "stream",
          "name": "stdout",
          "text": [
            "Epoch 1/30\n",
            "1/1 [==============================] - 14s 14s/step - loss: 0.8269 - accuracy: 0.6667\n",
            "Epoch 2/30\n",
            "1/1 [==============================] - 13s 13s/step - loss: 0.8353 - accuracy: 0.6667\n",
            "Epoch 3/30\n",
            "1/1 [==============================] - 13s 13s/step - loss: 0.5469 - accuracy: 0.8095\n",
            "Epoch 4/30\n",
            "1/1 [==============================] - 14s 14s/step - loss: 0.9782 - accuracy: 0.5238\n",
            "Epoch 5/30\n",
            "1/1 [==============================] - 13s 13s/step - loss: 0.4336 - accuracy: 0.7619\n",
            "Epoch 6/30\n",
            "1/1 [==============================] - 13s 13s/step - loss: 1.0546 - accuracy: 0.5714\n",
            "Epoch 7/30\n",
            "1/1 [==============================] - 13s 13s/step - loss: 0.6706 - accuracy: 0.6667\n",
            "Epoch 8/30\n",
            "1/1 [==============================] - 13s 13s/step - loss: 0.4495 - accuracy: 0.8571\n"
          ]
        }
      ]
    },
    {
      "cell_type": "code",
      "source": [
        "#Save the updated model back to the GCP bucket\n",
        "local_model_path_incremental = '/tmp/cnn_model_incremental.pkl'\n",
        "\n",
        "#Convert model to pickle\n",
        "with open(local_model_path_incremental, 'wb') as file:\n",
        "    pickle.dump(model, file)\n",
        "\n",
        "#Upload the pickle model to GCP bucket\n",
        "blob = bucket.blob('GCP_cnn_model_incremental.pkl')\n",
        "blob.upload_from_filename(local_model_path_incremental)\n"
      ],
      "metadata": {
        "id": "9OTk3VmMw4UG",
        "executionInfo": {
          "status": "ok",
          "timestamp": 1720736959697,
          "user_tz": -120,
          "elapsed": 45016,
          "user": {
            "displayName": "",
            "userId": ""
          }
        }
      },
      "id": "9OTk3VmMw4UG",
      "execution_count": 74,
      "outputs": []
    }
  ],
  "metadata": {
    "kernelspec": {
      "display_name": "Python 3",
      "language": "python",
      "name": "python3"
    },
    "language_info": {
      "codemirror_mode": {
        "name": "ipython",
        "version": 3
      },
      "file_extension": ".py",
      "mimetype": "text/x-python",
      "name": "python",
      "nbconvert_exporter": "python",
      "pygments_lexer": "ipython3",
      "version": "3.10.10"
    },
    "colab": {
      "provenance": [],
      "name": "pulmo_notebook_retrain"
    }
  },
  "nbformat": 4,
  "nbformat_minor": 5
}